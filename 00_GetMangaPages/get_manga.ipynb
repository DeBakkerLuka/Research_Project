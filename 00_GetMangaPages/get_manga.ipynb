{
 "cells": [
  {
   "cell_type": "markdown",
   "metadata": {},
   "source": [
    "### This will be my small script to gather data from manga (.cbz/.cbr)"
   ]
  },
  {
   "cell_type": "code",
   "execution_count": 1,
   "metadata": {},
   "outputs": [],
   "source": [
    "import os\n",
    "from shutil import copy\n",
    "import zipfile"
   ]
  },
  {
   "cell_type": "code",
   "execution_count": 7,
   "metadata": {},
   "outputs": [],
   "source": [
    "# Place volumes in Volumes_zips, it will send a backup to Volumes.\n",
    "\n",
    "path = r'D:\\RESEARCH PROJECT\\Volumes_zips'\n",
    "copy_path = r'D:\\RESEARCH PROJECT\\Volumes'\n",
    "files = os.listdir(copy_path)\n",
    "\n",
    "try:\n",
    "    for file in files:\n",
    "        copy(os.path.join(copy_path, file), path)\n",
    "except:\n",
    "    print(f\"File {file} already exists\")\n",
    "    \n"
   ]
  },
  {
   "cell_type": "code",
   "execution_count": 8,
   "metadata": {},
   "outputs": [
    {
     "output_type": "stream",
     "name": "stdout",
     "text": [
      "Blue Spring Ride - Volume 02.cbz\n",
      "Blue Spring Ride - Volume 03.cbz\n",
      "Blue Spring Ride - Volume 04.cbz\n",
      "Horimiya v01 (2015) (Digital) (LuCaZ).cbz\n",
      "Horimiya v02 (2016) (Digital) (LuCaZ).cbz\n",
      "Horimiya v03 (2016) (Digital) (LuCaZ).cbz\n",
      "Horimiya v04 (2016) (Digital) (LuCaZ).cbz\n",
      "Horimiya v05 (2016) (Digital) (LuCaZ).cbz\n",
      "Horimiya v06 (2017) (Digital) (LuCaZ).cbz\n",
      "Horimiya v07 (2017) (Digital) (LuCaZ).cbz\n",
      "Horimiya v08 (2017) (Digital) (LuCaZ).cbz\n",
      "Horimiya v09 (2017) (Digital) (LuCaZ).cbz\n",
      "Horimiya v10 (2018) (Digital) (LuCaZ).cbz\n",
      "One Piece 01.cbz\n",
      "One Piece 02.cbz\n",
      "One Piece 03.cbz\n",
      "One Piece 04.cbz\n",
      "One Piece 05.cbz\n"
     ]
    }
   ],
   "source": [
    "more_files = os.listdir(path)\n",
    "\n",
    "try:\n",
    "    for file in more_files:\n",
    "        print(file)\n",
    "        if file.endswith('.cbz'):\n",
    "            os.rename(os.path.join(path, file), os.path.join(path, file + '.zip'))\n",
    "except:\n",
    "    print(\"Error\")"
   ]
  },
  {
   "cell_type": "code",
   "execution_count": 9,
   "metadata": {},
   "outputs": [],
   "source": [
    "files = os.listdir(path)\n",
    "\n",
    "for file in files:\n",
    "    if file.endswith('.zip'):\n",
    "        with zipfile.ZipFile(os.path.join(path, file), 'r') as zip_ref:\n",
    "            zip_ref.extractall(f\"D:\\RESEARCH PROJECT\\Data\\Volumes\\{file}\")\n"
   ]
  },
  {
   "cell_type": "code",
   "execution_count": null,
   "metadata": {},
   "outputs": [],
   "source": []
  }
 ],
 "metadata": {
  "kernelspec": {
   "display_name": "Python 3",
   "language": "python",
   "name": "python3"
  },
  "language_info": {
   "codemirror_mode": {
    "name": "ipython",
    "version": 3
   },
   "file_extension": ".py",
   "mimetype": "text/x-python",
   "name": "python",
   "nbconvert_exporter": "python",
   "pygments_lexer": "ipython3",
   "version": "3.7.9-final"
  }
 },
 "nbformat": 4,
 "nbformat_minor": 4
}