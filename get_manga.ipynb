{
 "cells": [
  {
   "cell_type": "markdown",
   "metadata": {},
   "source": [
    "### This will be my small script to gather data from manga (.cbz/.cbr)"
   ]
  },
  {
   "cell_type": "code",
   "execution_count": 17,
   "metadata": {},
   "outputs": [
    {
     "name": "stdout",
     "output_type": "stream",
     "text": [
      "One Piece 01.cbz\n"
     ]
    }
   ],
   "source": [
    "import os\n",
    "from shutil import copy\n",
    "path = r'C:\\Users\\Luka De Bakker\\Documents\\SCHOOL - SEM 5\\Research Project\\Volumes'\n",
    "copy_path = r'C:\\Users\\Luka De Bakker\\Documents\\SCHOOL - SEM 5\\Research Project\\Volumes_zips'\n",
    "files = os.listdir(path)\n",
    "for file in files:\n",
    "    print(file)\n",
    "    copy(os.path.join(path, file), copy_path)\n",
    "    os.rename(os.path.join(path, file), os.path.join(path, file + '.zip'))"
   ]
  },
  {
   "cell_type": "code",
   "execution_count": null,
   "metadata": {},
   "outputs": [],
   "source": []
  }
 ],
 "metadata": {
  "kernelspec": {
   "display_name": "Python 3",
   "language": "python",
   "name": "python3"
  },
  "language_info": {
   "codemirror_mode": {
    "name": "ipython",
    "version": 3
   },
   "file_extension": ".py",
   "mimetype": "text/x-python",
   "name": "python",
   "nbconvert_exporter": "python",
   "pygments_lexer": "ipython3",
   "version": "3.7.9"
  }
 },
 "nbformat": 4,
 "nbformat_minor": 4
}
