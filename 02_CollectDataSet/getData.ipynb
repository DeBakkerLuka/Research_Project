{
 "metadata": {
  "language_info": {
   "codemirror_mode": {
    "name": "ipython",
    "version": 3
   },
   "file_extension": ".py",
   "mimetype": "text/x-python",
   "name": "python",
   "nbconvert_exporter": "python",
   "pygments_lexer": "ipython3",
   "version": "3.7.9-final"
  },
  "orig_nbformat": 2,
  "kernelspec": {
   "name": "python3",
   "display_name": "Python 3.7.9 64-bit ('tf-gpu': conda)",
   "metadata": {
    "interpreter": {
     "hash": "7f98c0274b0118aac6cef4e869dba8152400cb7c799f77889ec50952b45afc8d"
    }
   }
  }
 },
 "nbformat": 4,
 "nbformat_minor": 2,
 "cells": [
  {
   "cell_type": "code",
   "execution_count": 1,
   "metadata": {},
   "outputs": [],
   "source": [
    "import manga109api\n",
    "import random"
   ]
  },
  {
   "cell_type": "code",
   "execution_count": 4,
   "metadata": {},
   "outputs": [],
   "source": [
    "manga109_root_dir = \"D:\\RESEARCH PROJECT\\Data\\Manga109\"\n",
    "p = manga109api.Parser(root_dir=manga109_root_dir)"
   ]
  },
  {
   "cell_type": "code",
   "execution_count": 61,
   "metadata": {},
   "outputs": [
    {
     "output_type": "stream",
     "name": "stdout",
     "text": [
      "['ARMS', 'AisazuNihaIrarenai', 'AkkeraKanjinchou', 'Akuhamu', 'AosugiruHaru', 'AppareKappore', 'Arisa', 'BEMADER_P', 'BakuretsuKungFuGirl', 'Belmondo', 'BokuHaSitatakaKun', 'BurariTessenTorimonocho', 'ByebyeC-BOY', 'Count3DeKimeteAgeru', 'DollGun', 'Donburakokko', 'DualJustice', 'EienNoWith', 'EvaLady', 'EverydayOsakanaChan', 'GOOD_KISS_Ver2', 'GakuenNoise', 'GarakutayaManta', 'GinNoChimera', 'Hamlet', 'HanzaiKousyouninMinegishiEitarou', 'HaruichibanNoFukukoro', 'HarukaRefrain', 'HealingPlanet', 'HeiseiJimen', 'HighschoolKimengumi_vol01', 'HighschoolKimengumi_vol20', 'HinagikuKenzan', 'HisokaReturns', 'JangiriPonpon', 'JijiBabaFight', 'Joouari', 'Jyovolley', 'KarappoHighschool', 'KimiHaBokuNoTaiyouDa', 'KoukouNoHitotachi', 'KuroidoGanka', 'KyokugenCyclone', 'LancelotFullThrottle', 'LoveHina_vol01', 'LoveHina_vol14', 'MAD_STONE', 'MadouTaiga', 'MagicStarGakuin', 'MagicianLoad', 'MariaSamaNihaNaisyo', 'MayaNoAkaiKutsu', 'MemorySeijin', 'MeteoSanStrikeDesu', 'MiraiSan', 'MisutenaideDaisy', 'MoeruOnisan_vol01', 'MoeruOnisan_vol19', 'MomoyamaHaikagura', 'MukoukizuNoChonbo', 'MutekiBoukenSyakuma', 'Nekodama', 'NichijouSoup', 'Ningyoushi', 'OL_Lunch', 'OhWareraRettouSeitokai', 'PLANET7', 'ParaisoRoad', 'PikaruGenkiDesu', 'PlatinumJungle', 'PrayerHaNemurenai', 'PrismHeart', 'PsychoStaff', 'Raphael', 'ReveryEarth', 'RinToSiteSippuNoNaka', 'RisingGirl', 'Saisoku', 'SaladDays_vol01', 'SaladDays_vol18', 'SamayoeruSyonenNiJunaiWo', 'SeisinkiVulnus', 'ShimatteIkouze_vol01', 'ShimatteIkouze_vol26', 'SonokiDeABC', 'SyabondamaKieta', 'TaiyouNiSmash', 'TapkunNoTanteisitsu', 'TasogareTsushin', 'TennenSenshiG', 'TensiNoHaneToAkumaNoShippo', 'TetsuSan', \"That'sIzumiko\", 'TotteokiNoABC', 'ToutaMairimasu', 'TouyouKidan', 'TsubasaNoKioku', \"UchiNoNyan'sDiary\", 'UchuKigekiM774', 'UltraEleven', 'UnbalanceTokyo', 'WarewareHaOniDearu', 'YamatoNoHane', 'YasasiiAkuma', 'YouchienBoueigumi', 'YoumaKourin', 'YukiNoFuruMachi', 'YumeNoKayoiji', 'YumeiroCooking']\n"
     ]
    }
   ],
   "source": [
    "print(p.books)"
   ]
  },
  {
   "cell_type": "code",
   "execution_count": 62,
   "metadata": {},
   "outputs": [],
   "source": [
    "# Code to get all faces from manga and save them into the correct foler.\n",
    "\n",
    "import manga109api\n",
    "from PIL import Image, ImageDraw\n",
    "#! [\"body\", \"face\", \"frame\", \"text\"] \n",
    "def draw_rectangle(img, x0, y0, x1, y1, annotation_type):\n",
    "    if annotation_type in [\"face\"]:\n",
    "    # assert annotation_type in [\"body\", \"face\", \"frame\", \"text\"]\n",
    "        color = {\"body\": \"#258039\", \"face\": \"#f5be41\",\n",
    "             \"frame\": \"#31a9b8\", \"text\": \"#cf3721\"}[annotation_type]\n",
    "        draw = ImageDraw.Draw(img)\n",
    "        draw.rectangle([x0, y0, x1, y1], outline=color, width=4)\n",
    "\n",
    "def get_faces(book_title):\n",
    "    manga109_root_dir = \"D:\\RESEARCH PROJECT\\Data\\Manga109\"\n",
    "    j = 0\n",
    "\n",
    "    p = manga109api.Parser(root_dir=manga109_root_dir)\n",
    "    annotation = p.get_annotation(book=book_title)\n",
    "\n",
    "    for i in range(0, len(annotation['page'])):\n",
    "\n",
    "        img = Image.open(p.img_path(book=book_title, index=i))\n",
    "\n",
    "        for annotation_type in [\"face\"]:\n",
    "            rois = annotation[\"page\"][i][annotation_type]\n",
    "            for roi in rois:\n",
    "                j += 1\n",
    "                # draw_rectangle(img, roi[\"@xmin\"], roi[\"@ymin\"], roi[\"@xmax\"], roi[\"@ymax\"], annotation_type)\n",
    "                if not os.path.exists(f\"../../data/manga109_faces/{book_title}\"):\n",
    "                    os.makedirs(f\"../../data/manga109_faces/{book_title}\")\n",
    "\n",
    "\n",
    "                img2 = img.crop((roi[\"@xmin\"], roi[\"@ymin\"], roi[\"@xmax\"], roi[\"@ymax\"]))\n",
    "                img2.save(f\"../../data/manga109_faces/{book_title}/{j}.jpg\")\n",
    "\n",
    "    # img.save(\"out.jpg\")"
   ]
  },
  {
   "cell_type": "code",
   "execution_count": 63,
   "metadata": {},
   "outputs": [],
   "source": [
    "for book in p.books:\n",
    "    get_faces(book)"
   ]
  },
  {
   "cell_type": "code",
   "execution_count": 65,
   "metadata": {},
   "outputs": [],
   "source": [
    "# Code to get random images from a manga page as training data, no faces.\n",
    "\n",
    "import manga109api\n",
    "from PIL import Image, ImageDraw\n",
    "def get_random_frames(book_title):\n",
    "    manga109_root_dir = \"D:\\RESEARCH PROJECT\\Data\\Manga109\"\n",
    "    j = 0\n",
    "\n",
    "    p = manga109api.Parser(root_dir=manga109_root_dir)\n",
    "    annotation = p.get_annotation(book=book_title)\n",
    "\n",
    "    for i in range(0, len(annotation['page'])):\n",
    "\n",
    "        img = Image.open(p.img_path(book=book_title, index=i))\n",
    "        \n",
    "        x_min = []\n",
    "        y_min = []\n",
    "        for annotation_type in [\"text\"]:\n",
    "            rois = annotation[\"page\"][i][annotation_type]\n",
    "            for roi in rois:\n",
    "                # texts_list.append({'xmin': roi[\"@xmin\"], 'ymin': roi[\"@ymin\"], 'xmax': roi[\"@xmax\"], 'ymax': roi[\"@ymax\"]})\n",
    "                x_min.append(roi[\"@xmin\"])\n",
    "                y_min.append(roi[\"@ymin\"])\n",
    "        # print(texts_list)\n",
    "\n",
    "        for annotation_type in [\"face\"]:\n",
    "            rois = annotation[\"page\"][i][annotation_type]\n",
    "            for roi in rois:\n",
    "                j += 1\n",
    "                # draw_rectangle(img, roi[\"@xmin\"], roi[\"@ymin\"], roi[\"@xmax\"], roi[\"@ymax\"], annotation_type)\n",
    "                if not os.path.exists(f\"../../data/manga109_random_frames/{book_title}\"):\n",
    "                    os.makedirs(f\"../../data/manga109_random_frames/{book_title}\")\n",
    "\n",
    "\n",
    "                xmin = random.randint(1, img.size[0] - 110)\n",
    "                \n",
    "                ymin = random.randint(1, img.size[1] - 110)\n",
    "                \n",
    "                takeClosest = lambda num,collection:min(collection,key=lambda x:abs(x-num), default=0)\n",
    "\n",
    "                to_break = 0\n",
    "                can_save = True \n",
    "\n",
    "                while abs(xmin - int(takeClosest(xmin, x_min))) < 110 or abs(ymin - int(takeClosest(ymin, y_min))) < 110:\n",
    "                    xmin = random.randint(1, img.size[0] - 110)\n",
    "                    ymin = random.randint(1, img.size[1] - 110)\n",
    "                    to_break += 1\n",
    "                    if to_break == 5:\n",
    "                        can_save = False\n",
    "                        break\n",
    "                \n",
    "                   \n",
    "\n",
    "                xmax = xmin + 100\n",
    "                ymax = ymin + 100\n",
    "                #print(img.size)\n",
    "                #print(xmin, ymin, xmax, ymax)\n",
    "                if can_save == True:\n",
    "                    img2 = img.crop((xmin, ymin, xmax, ymax))\n",
    "                    img2.save(f\"../../data/manga109_random_frames/{book_title}/{j}.jpg\")\n",
    "\n",
    "    # img.save(\"out.jpg\")"
   ]
  },
  {
   "cell_type": "code",
   "execution_count": 66,
   "metadata": {},
   "outputs": [],
   "source": [
    "for book in p.books:\n",
    "    get_random_frames(book)"
   ]
  },
  {
   "cell_type": "code",
   "execution_count": 67,
   "metadata": {},
   "outputs": [],
   "source": [
    "# Code to get the speech bubbles from my dataset.\n",
    "\n",
    "import manga109api\n",
    "from PIL import Image, ImageDraw\n",
    "#! [\"body\", \"face\", \"frame\", \"text\"] \n",
    "def get_texts(book_title):\n",
    "    manga109_root_dir = \"D:\\RESEARCH PROJECT\\Data\\Manga109\"\n",
    "    j = 0\n",
    "\n",
    "    p = manga109api.Parser(root_dir=manga109_root_dir)\n",
    "    annotation = p.get_annotation(book=book_title)\n",
    "\n",
    "    for i in range(0, len(annotation['page'])):\n",
    "\n",
    "        img = Image.open(p.img_path(book=book_title, index=i))\n",
    "        \n",
    "        for annotation_type in [\"text\"]:\n",
    "            rois = annotation[\"page\"][i][annotation_type]\n",
    "            for roi in rois:\n",
    "                j += 1\n",
    "                # draw_rectangle(img, roi[\"@xmin\"], roi[\"@ymin\"], roi[\"@xmax\"], roi[\"@ymax\"], annotation_type)\n",
    "                if not os.path.exists(f\"../../data/manga109_text/{book_title}\"):\n",
    "                    os.makedirs(f\"../../data/manga109_text/{book_title}\")\n",
    "\n",
    "                img2 = img.crop((roi[\"@xmin\"], roi[\"@ymin\"], roi[\"@xmax\"], roi[\"@ymax\"]))\n",
    "                img2.save(f\"../../data/manga109_text/{book_title}/{j}.jpg\")"
   ]
  },
  {
   "cell_type": "code",
   "execution_count": 68,
   "metadata": {},
   "outputs": [
    {
     "output_type": "error",
     "ename": "SystemError",
     "evalue": "tile cannot extend outside image",
     "traceback": [
      "\u001b[1;31m---------------------------------------------------------------------------\u001b[0m",
      "\u001b[1;31mSystemError\u001b[0m                               Traceback (most recent call last)",
      "\u001b[1;32m<ipython-input-68-74600df399ec>\u001b[0m in \u001b[0;36m<module>\u001b[1;34m\u001b[0m\n\u001b[0;32m      1\u001b[0m \u001b[1;32mfor\u001b[0m \u001b[0mbook\u001b[0m \u001b[1;32min\u001b[0m \u001b[0mp\u001b[0m\u001b[1;33m.\u001b[0m\u001b[0mbooks\u001b[0m\u001b[1;33m:\u001b[0m\u001b[1;33m\u001b[0m\u001b[1;33m\u001b[0m\u001b[0m\n\u001b[1;32m----> 2\u001b[1;33m     \u001b[0mget_texts\u001b[0m\u001b[1;33m(\u001b[0m\u001b[0mbook\u001b[0m\u001b[1;33m)\u001b[0m\u001b[1;33m\u001b[0m\u001b[1;33m\u001b[0m\u001b[0m\n\u001b[0m",
      "\u001b[1;32m<ipython-input-67-d47f9d1c315c>\u001b[0m in \u001b[0;36mget_texts\u001b[1;34m(book_title)\u001b[0m\n\u001b[0;32m     24\u001b[0m \u001b[1;33m\u001b[0m\u001b[0m\n\u001b[0;32m     25\u001b[0m                 \u001b[0mimg2\u001b[0m \u001b[1;33m=\u001b[0m \u001b[0mimg\u001b[0m\u001b[1;33m.\u001b[0m\u001b[0mcrop\u001b[0m\u001b[1;33m(\u001b[0m\u001b[1;33m(\u001b[0m\u001b[0mroi\u001b[0m\u001b[1;33m[\u001b[0m\u001b[1;34m\"@xmin\"\u001b[0m\u001b[1;33m]\u001b[0m\u001b[1;33m,\u001b[0m \u001b[0mroi\u001b[0m\u001b[1;33m[\u001b[0m\u001b[1;34m\"@ymin\"\u001b[0m\u001b[1;33m]\u001b[0m\u001b[1;33m,\u001b[0m \u001b[0mroi\u001b[0m\u001b[1;33m[\u001b[0m\u001b[1;34m\"@xmax\"\u001b[0m\u001b[1;33m]\u001b[0m\u001b[1;33m,\u001b[0m \u001b[0mroi\u001b[0m\u001b[1;33m[\u001b[0m\u001b[1;34m\"@ymax\"\u001b[0m\u001b[1;33m]\u001b[0m\u001b[1;33m)\u001b[0m\u001b[1;33m)\u001b[0m\u001b[1;33m\u001b[0m\u001b[1;33m\u001b[0m\u001b[0m\n\u001b[1;32m---> 26\u001b[1;33m                 \u001b[0mimg2\u001b[0m\u001b[1;33m.\u001b[0m\u001b[0msave\u001b[0m\u001b[1;33m(\u001b[0m\u001b[1;34mf\"../../data/manga109_text/{book_title}/{j}.jpg\"\u001b[0m\u001b[1;33m)\u001b[0m\u001b[1;33m\u001b[0m\u001b[1;33m\u001b[0m\u001b[0m\n\u001b[0m",
      "\u001b[1;32mD:\\ANACONDA\\envs\\tf-gpu\\lib\\site-packages\\PIL\\Image.py\u001b[0m in \u001b[0;36msave\u001b[1;34m(self, fp, format, **params)\u001b[0m\n\u001b[0;32m   2156\u001b[0m \u001b[1;33m\u001b[0m\u001b[0m\n\u001b[0;32m   2157\u001b[0m         \u001b[1;32mtry\u001b[0m\u001b[1;33m:\u001b[0m\u001b[1;33m\u001b[0m\u001b[1;33m\u001b[0m\u001b[0m\n\u001b[1;32m-> 2158\u001b[1;33m             \u001b[0msave_handler\u001b[0m\u001b[1;33m(\u001b[0m\u001b[0mself\u001b[0m\u001b[1;33m,\u001b[0m \u001b[0mfp\u001b[0m\u001b[1;33m,\u001b[0m \u001b[0mfilename\u001b[0m\u001b[1;33m)\u001b[0m\u001b[1;33m\u001b[0m\u001b[1;33m\u001b[0m\u001b[0m\n\u001b[0m\u001b[0;32m   2159\u001b[0m         \u001b[1;32mfinally\u001b[0m\u001b[1;33m:\u001b[0m\u001b[1;33m\u001b[0m\u001b[1;33m\u001b[0m\u001b[0m\n\u001b[0;32m   2160\u001b[0m             \u001b[1;31m# do what we can to clean up\u001b[0m\u001b[1;33m\u001b[0m\u001b[1;33m\u001b[0m\u001b[1;33m\u001b[0m\u001b[0m\n",
      "\u001b[1;32mD:\\ANACONDA\\envs\\tf-gpu\\lib\\site-packages\\PIL\\JpegImagePlugin.py\u001b[0m in \u001b[0;36m_save\u001b[1;34m(im, fp, filename)\u001b[0m\n\u001b[0;32m    763\u001b[0m     \u001b[0mbufsize\u001b[0m \u001b[1;33m=\u001b[0m \u001b[0mmax\u001b[0m\u001b[1;33m(\u001b[0m\u001b[0mImageFile\u001b[0m\u001b[1;33m.\u001b[0m\u001b[0mMAXBLOCK\u001b[0m\u001b[1;33m,\u001b[0m \u001b[0mbufsize\u001b[0m\u001b[1;33m,\u001b[0m \u001b[0mlen\u001b[0m\u001b[1;33m(\u001b[0m\u001b[0mexif\u001b[0m\u001b[1;33m)\u001b[0m \u001b[1;33m+\u001b[0m \u001b[1;36m5\u001b[0m\u001b[1;33m,\u001b[0m \u001b[0mlen\u001b[0m\u001b[1;33m(\u001b[0m\u001b[0mextra\u001b[0m\u001b[1;33m)\u001b[0m \u001b[1;33m+\u001b[0m \u001b[1;36m1\u001b[0m\u001b[1;33m)\u001b[0m\u001b[1;33m\u001b[0m\u001b[1;33m\u001b[0m\u001b[0m\n\u001b[0;32m    764\u001b[0m \u001b[1;33m\u001b[0m\u001b[0m\n\u001b[1;32m--> 765\u001b[1;33m     \u001b[0mImageFile\u001b[0m\u001b[1;33m.\u001b[0m\u001b[0m_save\u001b[0m\u001b[1;33m(\u001b[0m\u001b[0mim\u001b[0m\u001b[1;33m,\u001b[0m \u001b[0mfp\u001b[0m\u001b[1;33m,\u001b[0m \u001b[1;33m[\u001b[0m\u001b[1;33m(\u001b[0m\u001b[1;34m\"jpeg\"\u001b[0m\u001b[1;33m,\u001b[0m \u001b[1;33m(\u001b[0m\u001b[1;36m0\u001b[0m\u001b[1;33m,\u001b[0m \u001b[1;36m0\u001b[0m\u001b[1;33m)\u001b[0m \u001b[1;33m+\u001b[0m \u001b[0mim\u001b[0m\u001b[1;33m.\u001b[0m\u001b[0msize\u001b[0m\u001b[1;33m,\u001b[0m \u001b[1;36m0\u001b[0m\u001b[1;33m,\u001b[0m \u001b[0mrawmode\u001b[0m\u001b[1;33m)\u001b[0m\u001b[1;33m]\u001b[0m\u001b[1;33m,\u001b[0m \u001b[0mbufsize\u001b[0m\u001b[1;33m)\u001b[0m\u001b[1;33m\u001b[0m\u001b[1;33m\u001b[0m\u001b[0m\n\u001b[0m\u001b[0;32m    766\u001b[0m \u001b[1;33m\u001b[0m\u001b[0m\n\u001b[0;32m    767\u001b[0m \u001b[1;33m\u001b[0m\u001b[0m\n",
      "\u001b[1;32mD:\\ANACONDA\\envs\\tf-gpu\\lib\\site-packages\\PIL\\ImageFile.py\u001b[0m in \u001b[0;36m_save\u001b[1;34m(im, fp, tile, bufsize)\u001b[0m\n\u001b[0;32m    531\u001b[0m             \u001b[1;32mif\u001b[0m \u001b[0mo\u001b[0m \u001b[1;33m>\u001b[0m \u001b[1;36m0\u001b[0m\u001b[1;33m:\u001b[0m\u001b[1;33m\u001b[0m\u001b[1;33m\u001b[0m\u001b[0m\n\u001b[0;32m    532\u001b[0m                 \u001b[0mfp\u001b[0m\u001b[1;33m.\u001b[0m\u001b[0mseek\u001b[0m\u001b[1;33m(\u001b[0m\u001b[0mo\u001b[0m\u001b[1;33m)\u001b[0m\u001b[1;33m\u001b[0m\u001b[1;33m\u001b[0m\u001b[0m\n\u001b[1;32m--> 533\u001b[1;33m             \u001b[0me\u001b[0m\u001b[1;33m.\u001b[0m\u001b[0msetimage\u001b[0m\u001b[1;33m(\u001b[0m\u001b[0mim\u001b[0m\u001b[1;33m.\u001b[0m\u001b[0mim\u001b[0m\u001b[1;33m,\u001b[0m \u001b[0mb\u001b[0m\u001b[1;33m)\u001b[0m\u001b[1;33m\u001b[0m\u001b[1;33m\u001b[0m\u001b[0m\n\u001b[0m\u001b[0;32m    534\u001b[0m             \u001b[1;32mif\u001b[0m \u001b[0me\u001b[0m\u001b[1;33m.\u001b[0m\u001b[0mpushes_fd\u001b[0m\u001b[1;33m:\u001b[0m\u001b[1;33m\u001b[0m\u001b[1;33m\u001b[0m\u001b[0m\n\u001b[0;32m    535\u001b[0m                 \u001b[0me\u001b[0m\u001b[1;33m.\u001b[0m\u001b[0msetfd\u001b[0m\u001b[1;33m(\u001b[0m\u001b[0mfp\u001b[0m\u001b[1;33m)\u001b[0m\u001b[1;33m\u001b[0m\u001b[1;33m\u001b[0m\u001b[0m\n",
      "\u001b[1;31mSystemError\u001b[0m: tile cannot extend outside image"
     ]
    }
   ],
   "source": [
    "for book in p.books:\n",
    "    get_texts(book)"
   ]
  },
  {
   "cell_type": "code",
   "execution_count": 7,
   "metadata": {},
   "outputs": [],
   "source": [
    "# This is some code to create the YOLO training data that I will need for my YOLO model.\n",
    "\n",
    "import manga109api\n",
    "from PIL import Image, ImageDraw\n",
    "\n",
    "def draw_rectangle(img, x0, y0, x1, y1, annotation_type):\n",
    "    if annotation_type in [\"face\"]:\n",
    "    # assert annotation_type in [\"body\", \"face\", \"frame\", \"text\"]\n",
    "        color = {\"body\": \"#258039\", \"face\": \"#f5be41\",\n",
    "             \"frame\": \"#31a9b8\", \"text\": \"#cf3721\"}[annotation_type]\n",
    "        draw = ImageDraw.Draw(img)\n",
    "        draw.rectangle([x0, y0, x1, y1], outline=color, width=4)\n",
    "\n",
    "def get_faces_for_yolo():\n",
    "    manga109_root_dir = \"D:\\RESEARCH PROJECT\\Data\\Manga109\"\n",
    "    p = manga109api.Parser(root_dir=manga109_root_dir)\n",
    "    j = 0\n",
    "    for book_title in p.books:\n",
    "        annotation = p.get_annotation(book=book_title)\n",
    "\n",
    "        for i in range(0, len(annotation['page'])):\n",
    "            \n",
    "            img = Image.open(p.img_path(book=book_title, index=i))\n",
    "\n",
    "            for annotation_type in [\"face\"]:\n",
    "                j += 1\n",
    "                rois = annotation[\"page\"][i][annotation_type]\n",
    "                f = open(f\"../../data/manga109_yolo_faces/{j}.txt\",\"w+\")  \n",
    "                for roi in rois:\n",
    "                    \n",
    "                    # draw_rectangle(img, roi[\"@xmin\"], roi[\"@ymin\"], roi[\"@xmax\"], roi[\"@ymax\"], annotation_type)\n",
    "\n",
    "                    # w = ((roi[\"@xmax\"] - roi[\"@xmin\"]) / 2)\n",
    "                    # h = ((roi[\"@ymax\"] - roi[\"@ymin\"]) / 2)\n",
    "                    w = (roi[\"@xmax\"] - roi[\"@xmin\"])\n",
    "                    h = (roi[\"@ymax\"] - roi[\"@ymin\"])\n",
    "                    x = roi['@xmin'] + ((roi[\"@xmax\"] - roi[\"@xmin\"]) / 2)\n",
    "                    y = roi[\"@ymin\"] + ((roi[\"@ymax\"] - roi[\"@ymin\"]) / 2)\n",
    "\n",
    "                    # print(img.size)\n",
    "\n",
    "                    x = round(x / img.size[0], 6)\n",
    "                    y = round(y / img.size[1], 6)\n",
    "                    w = round(w / img.size[0], 6)\n",
    "                    h = round(h / img.size[1], 6)\n",
    "\n",
    "                    # print(x, y, w, h)\n",
    "                \n",
    "\n",
    "                    # print(roi[\"@xmin\"], roi[\"@ymin\"], roi[\"@xmax\"], roi[\"@ymax\"])\n",
    "                    #img2 = img.crop((roi[\"@xmin\"], roi[\"@ymin\"], roi[\"@xmax\"], roi[\"@ymax\"]))\n",
    "                    f.write(f\"1 {x} {y} {w} {h}\\n\") \n",
    "                f.close()  \n",
    "                img.save(f\"../../data/manga109_yolo_faces/{j}.jpg\")\n"
   ]
  },
  {
   "cell_type": "code",
   "execution_count": 8,
   "metadata": {},
   "outputs": [],
   "source": [
    "get_faces_for_yolo()"
   ]
  },
  {
   "cell_type": "code",
   "execution_count": null,
   "metadata": {},
   "outputs": [],
   "source": []
  }
 ]
}