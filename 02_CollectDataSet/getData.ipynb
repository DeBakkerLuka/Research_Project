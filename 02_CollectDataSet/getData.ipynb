{
 "metadata": {
  "language_info": {
   "codemirror_mode": {
    "name": "ipython",
    "version": 3
   },
   "file_extension": ".py",
   "mimetype": "text/x-python",
   "name": "python",
   "nbconvert_exporter": "python",
   "pygments_lexer": "ipython3",
   "version": "3.7.9-final"
  },
  "orig_nbformat": 2,
  "kernelspec": {
   "name": "python3",
   "display_name": "Python 3.7.9 64-bit ('tf-gpu': conda)",
   "metadata": {
    "interpreter": {
     "hash": "7f98c0274b0118aac6cef4e869dba8152400cb7c799f77889ec50952b45afc8d"
    }
   }
  }
 },
 "nbformat": 4,
 "nbformat_minor": 2,
 "cells": [
  {
   "cell_type": "code",
   "execution_count": 46,
   "metadata": {},
   "outputs": [],
   "source": [
    "import manga109api\n",
    "import random"
   ]
  },
  {
   "cell_type": "code",
   "execution_count": 5,
   "metadata": {},
   "outputs": [],
   "source": [
    "manga109_root_dir = \"D:\\RESEARCH PROJECT\\Data\\Manga109\"\n",
    "p = manga109api.Parser(root_dir=manga109_root_dir)\n"
   ]
  },
  {
   "cell_type": "code",
   "execution_count": 8,
   "metadata": {},
   "outputs": [
    {
     "output_type": "stream",
     "name": "stdout",
     "text": [
      "['ARMS', 'AisazuNihaIrarenai', 'AkkeraKanjinchou', 'Akuhamu', 'AosugiruHaru', 'AppareKappore', 'Arisa', 'BEMADER_P', 'BakuretsuKungFuGirl', 'Belmondo', 'BokuHaSitatakaKun', 'BurariTessenTorimonocho', 'ByebyeC-BOY', 'Count3DeKimeteAgeru', 'DollGun', 'Donburakokko', 'DualJustice', 'EienNoWith', 'EvaLady', 'EverydayOsakanaChan', 'GOOD_KISS_Ver2', 'GakuenNoise', 'GarakutayaManta', 'GinNoChimera', 'Hamlet', 'HanzaiKousyouninMinegishiEitarou', 'HaruichibanNoFukukoro', 'HarukaRefrain', 'HealingPlanet', 'HeiseiJimen', 'HighschoolKimengumi_vol01', 'HighschoolKimengumi_vol20', 'HinagikuKenzan', 'HisokaReturns', 'JangiriPonpon', 'JijiBabaFight', 'Joouari', 'Jyovolley', 'KarappoHighschool', 'KimiHaBokuNoTaiyouDa', 'KoukouNoHitotachi', 'KuroidoGanka', 'KyokugenCyclone', 'LancelotFullThrottle', 'LoveHina_vol01', 'LoveHina_vol14', 'MAD_STONE', 'MadouTaiga', 'MagicStarGakuin', 'MagicianLoad', 'MariaSamaNihaNaisyo', 'MayaNoAkaiKutsu', 'MemorySeijin', 'MeteoSanStrikeDesu', 'MiraiSan', 'MisutenaideDaisy', 'MoeruOnisan_vol01', 'MoeruOnisan_vol19', 'MomoyamaHaikagura', 'MukoukizuNoChonbo', 'MutekiBoukenSyakuma', 'Nekodama', 'NichijouSoup', 'Ningyoushi', 'OL_Lunch', 'OhWareraRettouSeitokai', 'PLANET7', 'ParaisoRoad', 'PikaruGenkiDesu', 'PlatinumJungle', 'PrayerHaNemurenai', 'PrismHeart', 'PsychoStaff', 'Raphael', 'ReveryEarth', 'RinToSiteSippuNoNaka', 'RisingGirl', 'Saisoku', 'SaladDays_vol01', 'SaladDays_vol18', 'SamayoeruSyonenNiJunaiWo', 'SeisinkiVulnus', 'ShimatteIkouze_vol01', 'ShimatteIkouze_vol26', 'SonokiDeABC', 'SyabondamaKieta', 'TaiyouNiSmash', 'TapkunNoTanteisitsu', 'TasogareTsushin', 'TennenSenshiG', 'TensiNoHaneToAkumaNoShippo', 'TetsuSan', \"That'sIzumiko\", 'TotteokiNoABC', 'ToutaMairimasu', 'TouyouKidan', 'TsubasaNoKioku', \"UchiNoNyan'sDiary\", 'UchuKigekiM774', 'UltraEleven', 'UnbalanceTokyo', 'WarewareHaOniDearu', 'YamatoNoHane', 'YasasiiAkuma', 'YouchienBoueigumi', 'YoumaKourin', 'YukiNoFuruMachi', 'YumeNoKayoiji', 'YumeiroCooking']\n"
     ]
    }
   ],
   "source": [
    "print(p.books)"
   ]
  },
  {
   "cell_type": "code",
   "execution_count": 39,
   "metadata": {},
   "outputs": [],
   "source": [
    "import manga109api\n",
    "from PIL import Image, ImageDraw\n",
    "#! [\"body\", \"face\", \"frame\", \"text\"] \n",
    "def draw_rectangle(img, x0, y0, x1, y1, annotation_type):\n",
    "    if annotation_type in [\"face\"]:\n",
    "    # assert annotation_type in [\"body\", \"face\", \"frame\", \"text\"]\n",
    "        color = {\"body\": \"#258039\", \"face\": \"#f5be41\",\n",
    "             \"frame\": \"#31a9b8\", \"text\": \"#cf3721\"}[annotation_type]\n",
    "        draw = ImageDraw.Draw(img)\n",
    "        draw.rectangle([x0, y0, x1, y1], outline=color, width=4)\n",
    "\n",
    "def get_faces(book_title):\n",
    "    manga109_root_dir = \"D:\\RESEARCH PROJECT\\Data\\Manga109\"\n",
    "    j = 0\n",
    "\n",
    "    p = manga109api.Parser(root_dir=manga109_root_dir)\n",
    "    annotation = p.get_annotation(book=book_title)\n",
    "\n",
    "    for i in range(0, len(annotation['page'])):\n",
    "\n",
    "        img = Image.open(p.img_path(book=book_title, index=i))\n",
    "\n",
    "        for annotation_type in [\"face\"]:\n",
    "            rois = annotation[\"page\"][i][annotation_type]\n",
    "            for roi in rois:\n",
    "                j += 1\n",
    "                # draw_rectangle(img, roi[\"@xmin\"], roi[\"@ymin\"], roi[\"@xmax\"], roi[\"@ymax\"], annotation_type)\n",
    "                if not os.path.exists(f\"../../data/manga109_faces/{book_title}\"):\n",
    "                    os.makedirs(f\"../../data/manga109_faces/{book_title}\")\n",
    "\n",
    "\n",
    "                img2 = img.crop((roi[\"@xmin\"], roi[\"@ymin\"], roi[\"@xmax\"], roi[\"@ymax\"]))\n",
    "                img2.save(f\"../../data/manga109_faces/{book_title}/{j}.jpg\")\n",
    "\n",
    "    # img.save(\"out.jpg\")"
   ]
  },
  {
   "cell_type": "code",
   "execution_count": 41,
   "metadata": {},
   "outputs": [],
   "source": [
    "for book in p.books:\n",
    "    get_faces(book)"
   ]
  },
  {
   "cell_type": "code",
   "execution_count": 74,
   "metadata": {},
   "outputs": [],
   "source": [
    "import manga109api\n",
    "from PIL import Image, ImageDraw\n",
    "def get_random_frames(book_title):\n",
    "    manga109_root_dir = \"D:\\RESEARCH PROJECT\\Data\\Manga109\"\n",
    "    j = 0\n",
    "\n",
    "    p = manga109api.Parser(root_dir=manga109_root_dir)\n",
    "    annotation = p.get_annotation(book=book_title)\n",
    "\n",
    "    for i in range(0, len(annotation['page'])):\n",
    "\n",
    "        img = Image.open(p.img_path(book=book_title, index=i))\n",
    "\n",
    "        for annotation_type in [\"face\"]:\n",
    "            rois = annotation[\"page\"][i][annotation_type]\n",
    "            for roi in rois:\n",
    "                j += 1\n",
    "                # draw_rectangle(img, roi[\"@xmin\"], roi[\"@ymin\"], roi[\"@xmax\"], roi[\"@ymax\"], annotation_type)\n",
    "                if not os.path.exists(f\"../../data/manga109_random_frames/{book_title}\"):\n",
    "                    os.makedirs(f\"../../data/manga109_random_frames/{book_title}\")\n",
    "\n",
    "                xmin = random.randint(1, img.size[0] - 51)\n",
    "                xmax = xmin + 50\n",
    "                \n",
    "                ymin = random.randint(1, img.size[1] - 51)\n",
    "                ymax = ymin + 50\n",
    "               \n",
    "                #print(img.size)\n",
    "                #print(xmin, ymin, xmax, ymax)\n",
    "\n",
    "                img2 = img.crop((xmin, ymin, xmax, ymax))\n",
    "                img2.save(f\"../../data/manga109_random_frames/{book_title}/{j}.jpg\")\n",
    "\n",
    "    # img.save(\"out.jpg\")"
   ]
  },
  {
   "cell_type": "code",
   "execution_count": 75,
   "metadata": {},
   "outputs": [],
   "source": [
    "for book in p.books:\n",
    "    get_random_frames(book)"
   ]
  },
  {
   "cell_type": "code",
   "execution_count": null,
   "metadata": {},
   "outputs": [],
   "source": []
  }
 ]
}